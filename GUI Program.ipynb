{
 "cells": [
  {
   "cell_type": "code",
   "execution_count": 10,
   "metadata": {},
   "outputs": [
    {
     "name": "stdout",
     "output_type": "stream",
     "text": [
      "Enter Your Width: 733\n",
      "Enter Your Height: 434\n",
      "Do you want minimum Size (y/n): y\n",
      "Enter Minimum Size: 22\n",
      "Enter Maximum Size: 33\n"
     ]
    }
   ],
   "source": [
    "from tkinter import *\n",
    "\n",
    "wdth = input(\"Enter Your Width: \")\n",
    "hght = input(\"Enter Your Height: \")\n",
    "extra_size = input(\"Do you want minimum Size (y/n): \")\n",
    "\n",
    "if extra_size == \"n\":\n",
    "    root = Tk()\n",
    "    root.geometry(wdth+\"x\"+ hght)\n",
    "    root.mainloop()\n",
    "elif extra_size == \"y\":\n",
    "    width_size = int(input(\"Enter Width Size: \"))\n",
    "    height_size = int(input(\"Enter Height Size: \"))\n",
    "    root = Tk()\n",
    "    root.geometry(wdth+\"x\"+ hght)\n",
    "    root.minsize(width_size , height_size)\n",
    "    root.mainloop()\n",
    "    \n",
    "    \n",
    "\n",
    "\n",
    "\n"
   ]
  },
  {
   "cell_type": "code",
   "execution_count": null,
   "metadata": {},
   "outputs": [],
   "source": []
  }
 ],
 "metadata": {
  "kernelspec": {
   "display_name": "Python 3",
   "language": "python",
   "name": "python3"
  },
  "language_info": {
   "codemirror_mode": {
    "name": "ipython",
    "version": 3
   },
   "file_extension": ".py",
   "mimetype": "text/x-python",
   "name": "python",
   "nbconvert_exporter": "python",
   "pygments_lexer": "ipython3",
   "version": "3.7.3"
  }
 },
 "nbformat": 4,
 "nbformat_minor": 2
}
